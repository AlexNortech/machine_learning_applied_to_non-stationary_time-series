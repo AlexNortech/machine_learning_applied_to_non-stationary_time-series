{
 "cells": [
  {
   "cell_type": "markdown",
   "id": "1017ea73-6a51-444b-8760-d222001ad2a0",
   "metadata": {
    "id": "1017ea73-6a51-444b-8760-d222001ad2a0"
   },
   "source": [
    "## Importing packages"
   ]
  },
  {
   "cell_type": "code",
   "execution_count": null,
   "id": "6040b4e9-c424-4277-8c85-f43257817b49",
   "metadata": {
    "id": "6040b4e9-c424-4277-8c85-f43257817b49"
   },
   "outputs": [],
   "source": [
    "!pip install pandas matplotlib numpy --quiet"
   ]
  },
  {
   "cell_type": "code",
   "execution_count": 1,
   "id": "8bee60f0-4899-4527-9b4b-f3516593393a",
   "metadata": {
    "id": "8bee60f0-4899-4527-9b4b-f3516593393a"
   },
   "outputs": [],
   "source": [
    "import pandas as pd\n",
    "from matplotlib import pyplot as plt\n",
    "import numpy as np"
   ]
  },
  {
   "cell_type": "markdown",
   "id": "13973369-3c3f-44fd-8386-5751b81a8c37",
   "metadata": {
    "id": "13973369-3c3f-44fd-8386-5751b81a8c37"
   },
   "source": [
    "#### Loading CSV into memory.\n",
    "In this case, you have to download csv by yourself, in this case, it used Tick Data Suite download which had 3 columns representing time, bid and ask (respectively) for each row."
   ]
  },
  {
   "cell_type": "code",
   "execution_count": 3,
   "id": "7500f17e-7c15-47b6-bbb2-ed75aa8fa9b2",
   "metadata": {
    "colab": {
     "base_uri": "https://localhost:8080/",
     "height": 256
    },
    "id": "7500f17e-7c15-47b6-bbb2-ed75aa8fa9b2",
    "outputId": "18c2af52-5b37-4a16-85bc-7a3bf267183e"
   },
   "outputs": [
    {
     "name": "stderr",
     "output_type": "stream",
     "text": [
      "/home/nicolas/.local/lib/python3.12/site-packages/pandas/core/indexes/base.py:7588: FutureWarning: Dtype inference on a pandas object (Series, Index, ExtensionArray) is deprecated. The Index constructor will keep the original dtype in the future. Call `infer_objects` on the result to get the old behavior.\n",
      "  return Index(sequences[0], name=names)\n"
     ]
    },
    {
     "data": {
      "text/html": [
       "<div>\n",
       "<style scoped>\n",
       "    .dataframe tbody tr th:only-of-type {\n",
       "        vertical-align: middle;\n",
       "    }\n",
       "\n",
       "    .dataframe tbody tr th {\n",
       "        vertical-align: top;\n",
       "    }\n",
       "\n",
       "    .dataframe thead th {\n",
       "        text-align: right;\n",
       "    }\n",
       "</style>\n",
       "<table border=\"1\" class=\"dataframe\">\n",
       "  <thead>\n",
       "    <tr style=\"text-align: right;\">\n",
       "      <th></th>\n",
       "      <th>Open</th>\n",
       "      <th>High</th>\n",
       "      <th>Low</th>\n",
       "      <th>Close</th>\n",
       "    </tr>\n",
       "    <tr>\n",
       "      <th>Time</th>\n",
       "      <th></th>\n",
       "      <th></th>\n",
       "      <th></th>\n",
       "      <th></th>\n",
       "    </tr>\n",
       "  </thead>\n",
       "  <tbody>\n",
       "    <tr>\n",
       "      <th>2003-05-04 21:00:00</th>\n",
       "      <td>1.12284</td>\n",
       "      <td>1.12338</td>\n",
       "      <td>1.12242</td>\n",
       "      <td>1.12297</td>\n",
       "    </tr>\n",
       "    <tr>\n",
       "      <th>2003-05-04 21:30:00</th>\n",
       "      <td>1.12287</td>\n",
       "      <td>1.12313</td>\n",
       "      <td>1.12264</td>\n",
       "      <td>1.12305</td>\n",
       "    </tr>\n",
       "    <tr>\n",
       "      <th>2003-05-04 22:00:00</th>\n",
       "      <td>1.12274</td>\n",
       "      <td>1.12287</td>\n",
       "      <td>1.12226</td>\n",
       "      <td>1.12261</td>\n",
       "    </tr>\n",
       "    <tr>\n",
       "      <th>2003-05-04 22:30:00</th>\n",
       "      <td>1.12261</td>\n",
       "      <td>1.12302</td>\n",
       "      <td>1.12235</td>\n",
       "      <td>1.12241</td>\n",
       "    </tr>\n",
       "    <tr>\n",
       "      <th>2003-05-04 23:00:00</th>\n",
       "      <td>1.12235</td>\n",
       "      <td>1.12235</td>\n",
       "      <td>1.12160</td>\n",
       "      <td>1.12197</td>\n",
       "    </tr>\n",
       "  </tbody>\n",
       "</table>\n",
       "</div>"
      ],
      "text/plain": [
       "                        Open     High      Low    Close\n",
       "Time                                                   \n",
       "2003-05-04 21:00:00  1.12284  1.12338  1.12242  1.12297\n",
       "2003-05-04 21:30:00  1.12287  1.12313  1.12264  1.12305\n",
       "2003-05-04 22:00:00  1.12274  1.12287  1.12226  1.12261\n",
       "2003-05-04 22:30:00  1.12261  1.12302  1.12235  1.12241\n",
       "2003-05-04 23:00:00  1.12235  1.12235  1.12160  1.12197"
      ]
     },
     "execution_count": 3,
     "metadata": {},
     "output_type": "execute_result"
    }
   ],
   "source": [
    "#Load dataset\n",
    "csv_location = \"/run/media/nicolas/SHARED/data/EURUSD_GMT+0_NO-DST_2003-2024_M30.csv\"\n",
    "dataset = pd.read_csv(csv_location, parse_dates=['Date'])\n",
    "\n",
    "# Merging Date and Minutes columns and setting Time column as the index of this DataFrame\n",
    "dataset.loc[:,'Time'] = pd.to_datetime(dataset.Date.astype(str)+' '+dataset.Time.astype(str))\n",
    "dataset.pop('Date')\n",
    "dataset.pop('Tick volume')\n",
    "dataset.set_index('Time', inplace=True)\n",
    "initial_dataset_size = len(dataset)\n",
    "\n",
    "dataset.head()"
   ]
  },
  {
   "cell_type": "markdown",
   "id": "84cc16e8-34aa-4dda-b46d-8eae996f1b30",
   "metadata": {
    "id": "84cc16e8-34aa-4dda-b46d-8eae996f1b30"
   },
   "source": [
    "#### Checking data types and length"
   ]
  },
  {
   "cell_type": "code",
   "execution_count": 4,
   "id": "d0d28e18-bc4a-4224-9395-f581915a99ee",
   "metadata": {
    "colab": {
     "base_uri": "https://localhost:8080/"
    },
    "id": "d0d28e18-bc4a-4224-9395-f581915a99ee",
    "outputId": "14f40299-bfcf-4d3d-d5b8-b1db2b38972b"
   },
   "outputs": [
    {
     "name": "stdout",
     "output_type": "stream",
     "text": [
      "Data length: 262142 rows.\n",
      "\n",
      "Open     float64\n",
      "High     float64\n",
      "Low      float64\n",
      "Close    float64\n",
      "dtype: object\n"
     ]
    }
   ],
   "source": [
    "print(f\"Data length: {initial_dataset_size} rows.\\n\")\n",
    "print(f\"{dataset.dtypes}\")"
   ]
  },
  {
   "cell_type": "markdown",
   "id": "faa444f1-99d7-49fb-a03e-903631c86648",
   "metadata": {},
   "source": [
    "## Analysis\n",
    "Next, we are gonna use LSTM and GRU models to make predictions of the price in the recent years\n",
    "\n",
    "#### Formatting data and necessary columns"
   ]
  },
  {
   "cell_type": "code",
   "execution_count": 5,
   "id": "562f08dd-d3cf-4728-8f42-143e5561014c",
   "metadata": {},
   "outputs": [
    {
     "data": {
      "text/html": [
       "<div>\n",
       "<style scoped>\n",
       "    .dataframe tbody tr th:only-of-type {\n",
       "        vertical-align: middle;\n",
       "    }\n",
       "\n",
       "    .dataframe tbody tr th {\n",
       "        vertical-align: top;\n",
       "    }\n",
       "\n",
       "    .dataframe thead th {\n",
       "        text-align: right;\n",
       "    }\n",
       "</style>\n",
       "<table border=\"1\" class=\"dataframe\">\n",
       "  <thead>\n",
       "    <tr style=\"text-align: right;\">\n",
       "      <th></th>\n",
       "      <th>Open</th>\n",
       "      <th>High</th>\n",
       "      <th>Low</th>\n",
       "      <th>Close</th>\n",
       "    </tr>\n",
       "  </thead>\n",
       "  <tbody>\n",
       "    <tr>\n",
       "      <th>count</th>\n",
       "      <td>262142.000000</td>\n",
       "      <td>262142.000000</td>\n",
       "      <td>262142.000000</td>\n",
       "      <td>262142.000000</td>\n",
       "    </tr>\n",
       "    <tr>\n",
       "      <th>mean</th>\n",
       "      <td>1.232724</td>\n",
       "      <td>1.233420</td>\n",
       "      <td>1.232027</td>\n",
       "      <td>1.232726</td>\n",
       "    </tr>\n",
       "    <tr>\n",
       "      <th>std</th>\n",
       "      <td>0.127095</td>\n",
       "      <td>0.127229</td>\n",
       "      <td>0.126948</td>\n",
       "      <td>0.127096</td>\n",
       "    </tr>\n",
       "    <tr>\n",
       "      <th>min</th>\n",
       "      <td>0.953900</td>\n",
       "      <td>0.955420</td>\n",
       "      <td>0.953570</td>\n",
       "      <td>0.953900</td>\n",
       "    </tr>\n",
       "    <tr>\n",
       "      <th>25%</th>\n",
       "      <td>1.124050</td>\n",
       "      <td>1.124592</td>\n",
       "      <td>1.123540</td>\n",
       "      <td>1.124042</td>\n",
       "    </tr>\n",
       "    <tr>\n",
       "      <th>50%</th>\n",
       "      <td>1.216735</td>\n",
       "      <td>1.217380</td>\n",
       "      <td>1.216100</td>\n",
       "      <td>1.216750</td>\n",
       "    </tr>\n",
       "    <tr>\n",
       "      <th>75%</th>\n",
       "      <td>1.326350</td>\n",
       "      <td>1.327130</td>\n",
       "      <td>1.325550</td>\n",
       "      <td>1.326338</td>\n",
       "    </tr>\n",
       "    <tr>\n",
       "      <th>max</th>\n",
       "      <td>1.601300</td>\n",
       "      <td>1.603890</td>\n",
       "      <td>1.599190</td>\n",
       "      <td>1.601420</td>\n",
       "    </tr>\n",
       "  </tbody>\n",
       "</table>\n",
       "</div>"
      ],
      "text/plain": [
       "                Open           High            Low          Close\n",
       "count  262142.000000  262142.000000  262142.000000  262142.000000\n",
       "mean        1.232724       1.233420       1.232027       1.232726\n",
       "std         0.127095       0.127229       0.126948       0.127096\n",
       "min         0.953900       0.955420       0.953570       0.953900\n",
       "25%         1.124050       1.124592       1.123540       1.124042\n",
       "50%         1.216735       1.217380       1.216100       1.216750\n",
       "75%         1.326350       1.327130       1.325550       1.326338\n",
       "max         1.601300       1.603890       1.599190       1.601420"
      ]
     },
     "execution_count": 5,
     "metadata": {},
     "output_type": "execute_result"
    }
   ],
   "source": [
    "dataset.describe()"
   ]
  },
  {
   "cell_type": "code",
   "execution_count": 6,
   "id": "de309864-ac0f-492e-bce3-935827056650",
   "metadata": {},
   "outputs": [
    {
     "data": {
      "image/png": "[encoded data removed]",
      "text/plain": [
       "<Figure size 1600x400 with 1 Axes>"
      ]
     },
     "metadata": {},
     "output_type": "display_data"
    }
   ],
   "source": [
    "dataset[\"Close\"][:'2021'].plot(figsize=(16,4),legend=True)\n",
    "dataset[\"Close\"]['2022':].plot(figsize=(16,4),legend=True)\n",
    "plt.legend(['Training set','Test set'])\n",
    "plt.title('Price')\n",
    "plt.show()"
   ]
  },
  {
   "cell_type": "markdown",
   "id": "3Ku8UKtD34U2",
   "metadata": {
    "id": "3Ku8UKtD34U2"
   },
   "source": [
    "# Calculating some price values\n",
    "Now, let's take a look at some technical indicator that could be useful for our experiments\n",
    "\n",
    "### Simple Moving Average\n",
    "Let's code a SMA column for each one of the candles"
   ]
  },
  {
   "cell_type": "code",
   "execution_count": 55,
   "id": "QW_yOa-S4JAj",
   "metadata": {
    "colab": {
     "base_uri": "https://localhost:8080/",
     "height": 435
    },
    "id": "QW_yOa-S4JAj",
    "outputId": "d1ed20d6-49ff-452a-da23-1f3e3b47e865"
   },
   "outputs": [],
   "source": [
    "sma_value = 175 # SMA Period\n",
    "dataset['slow_sma'] = dataset['Close'].rolling(window=sma_value, min_periods=1).mean()"
   ]
  },
  {
   "cell_type": "code",
   "execution_count": 13,
   "id": "904d8bb0-4952-4eb2-83bb-3dcae8fe7843",
   "metadata": {},
   "outputs": [
    {
     "data": {
      "image/png": "[encoded data removed]",
      "text/plain": [
       "<Figure size 640x480 with 1 Axes>"
      ]
     },
     "metadata": {},
     "output_type": "display_data"
    }
   ],
   "source": [
    "plt.plot(dataset['slow_sma'], '-r', label='Slow SMA')\n",
    "plt.plot(dataset['Close'], '-b', lw=0.6, label='Price')\n",
    "plt.legend()\n",
    "plt.show()"
   ]
  },
  {
   "cell_type": "markdown",
   "id": "3a119308-8c27-433a-a945-4ec3460cf33a",
   "metadata": {},
   "source": [
    "## Machine Learning - Preprocessing"
   ]
  },
  {
   "cell_type": "markdown",
   "id": "5db8aed5-20a7-43ba-8f1f-b642278283bb",
   "metadata": {},
   "source": [
    "#### Normalizing the dataset\n",
    "First, we are going to normalize values using min and max scaling results, in this case, we are using only **Close** feature for our predictions."
   ]
  },
  {
   "cell_type": "code",
   "execution_count": 7,
   "id": "40a07a54-45af-4c1c-9fa4-a784c2565e6b",
   "metadata": {},
   "outputs": [
    {
     "name": "stdout",
     "output_type": "stream",
     "text": [
      "                        Open     High      Low    Close\n",
      "Time                                                   \n",
      "2021-12-31 19:30:00  1.13824  1.13850  1.13797  1.13825\n",
      "2021-12-31 20:00:00  1.13823  1.13848  1.13819  1.13831\n",
      "2021-12-31 20:30:00  1.13833  1.13851  1.13760  1.13760\n",
      "2021-12-31 21:00:00  1.13760  1.13793  1.13760  1.13786\n",
      "2021-12-31 21:30:00  1.13785  1.13822  1.13667  1.13667\n",
      "                        Open     High      Low    Close\n",
      "Time                                                   \n",
      "2024-04-29 21:30:00  1.07219  1.07221  1.07196  1.07205\n",
      "2024-04-29 22:00:00  1.07203  1.07223  1.07186  1.07188\n",
      "2024-04-29 22:30:00  1.07189  1.07196  1.07169  1.07173\n",
      "2024-04-29 23:00:00  1.07173  1.07191  1.07163  1.07179\n",
      "2024-04-29 23:30:00  1.07178  1.07187  1.07141  1.07147\n",
      "[[0.15438317]\n",
      " [0.15452457]\n",
      " [0.15374691]\n",
      " [0.15339343]\n",
      " [0.15261577]]\n",
      "\n",
      "\n",
      "[[0.93887806]\n",
      " [0.94036509]\n",
      " [0.9405702 ]\n",
      " [0.94026254]\n",
      " [0.9370321 ]]\n"
     ]
    }
   ],
   "source": [
    "from sklearn.preprocessing import MinMaxScaler \n",
    "\n",
    "# Splitting train and test data.\n",
    "train, test = dataset[:'2021'], dataset['2022':]\n",
    "\n",
    "print(train.tail())\n",
    "print(test.tail())\n",
    "\n",
    "# Extracting Close feature and converting 1D arrays to 2D arrays\n",
    "train = np.reshape(train['Close'].values, (-1, 1))\n",
    "test = np.reshape(test['Close'].values, (-1, 1))\n",
    "\n",
    "# Defining the scalation type and scaling the training and test datasets with the MixMax scalation type.\n",
    "scaler = MinMaxScaler(feature_range = (0, 1)) \n",
    "scaled_training_set = scaler.fit_transform(train) # S\n",
    "scaled_test_set = scaler.fit_transform(test) \n",
    "\n",
    "print(scaled_training_set[:5])\n",
    "print(\"\\n\")\n",
    "print(scaled_test_set[:5])"
   ]
  },
  {
   "cell_type": "markdown",
   "id": "4a478f7d-4a71-4ddb-a915-b5a9f7c175c2",
   "metadata": {},
   "source": [
    "#### Creating training data structures"
   ]
  },
  {
   "cell_type": "code",
   "execution_count": 8,
   "id": "382410b9-ad32-4a6f-aedf-35f4b9b4652d",
   "metadata": {},
   "outputs": [
    {
     "name": "stdout",
     "output_type": "stream",
     "text": [
      "X_train : (233081, 50, 1) y_train : (233081, 1)\n"
     ]
    }
   ],
   "source": [
    "X_train = []\n",
    "y_train = []\n",
    "\n",
    "for i in range(50, len(scaled_training_set)):\n",
    "    X_train.append(scaled_training_set[i - 50:i, 0])\n",
    "    y_train.append(scaled_training_set[i, 0])\n",
    "    \n",
    "# The training datasets are converted to Numpy arrays\n",
    "X_train, y_train = np.array(X_train), np.array(y_train)\n",
    "\n",
    "#Reshaping\n",
    "X_train = np.reshape(X_train, (X_train.shape[0], X_train.shape[1],1))\n",
    "y_train = np.reshape(y_train, (y_train.shape[0],1))\n",
    "\n",
    "print(\"X_train :\",X_train.shape,\"y_train :\",y_train.shape)"
   ]
  },
  {
   "cell_type": "markdown",
   "id": "0035da99-ce03-43c3-9825-5f4342cb1741",
   "metadata": {},
   "source": [
    "#### Creating test data structures"
   ]
  },
  {
   "cell_type": "code",
   "execution_count": 9,
   "id": "f26aa218-3b3b-4323-98d0-69b33f1fc8b0",
   "metadata": {},
   "outputs": [
    {
     "name": "stdout",
     "output_type": "stream",
     "text": [
      "X_test : (28961, 50, 1) y_test : (28961, 1)\n"
     ]
    }
   ],
   "source": [
    "X_test = []\n",
    "y_test = []\n",
    "\n",
    "for i in range(50, len(scaled_test_set)):\n",
    "    X_test.append(scaled_test_set[i - 50:i, 0])\n",
    "    y_test.append(scaled_test_set[i, 0])\n",
    "\n",
    "# The test  datasets are converted to numpy arrays\n",
    "X_test, y_test = np.array(X_test), np.array(y_test)\n",
    " \n",
    "#Reshaping\n",
    "X_test = np.reshape(X_test, (X_test.shape[0], X_test.shape[1],1))\n",
    "y_test = np.reshape(y_test, (y_test.shape[0],1))\n",
    "print(\"X_test :\",X_test.shape,\"y_test :\",y_test.shape)\n",
    "\n"
   ]
  },
  {
   "cell_type": "markdown",
   "id": "42969e42-15a9-4b0b-ab7a-71954287acc1",
   "metadata": {},
   "source": [
    "## Machine Learning - Executing"
   ]
  },
  {
   "cell_type": "code",
   "execution_count": 10,
   "id": "a616c116-6c0a-49fd-a689-53758aca1dd3",
   "metadata": {},
   "outputs": [
    {
     "name": "stderr",
     "output_type": "stream",
     "text": [
      "2024-04-30 21:40:14.925419: I external/local_tsl/tsl/cuda/cudart_stub.cc:32] Could not find cuda drivers on your machine, GPU will not be used.\n",
      "2024-04-30 21:40:15.000737: I external/local_tsl/tsl/cuda/cudart_stub.cc:32] Could not find cuda drivers on your machine, GPU will not be used.\n",
      "2024-04-30 21:40:15.171803: I tensorflow/core/platform/cpu_feature_guard.cc:210] This TensorFlow binary is optimized to use available CPU instructions in performance-critical operations.\n",
      "To enable the following instructions: AVX2 FMA, in other operations, rebuild TensorFlow with the appropriate compiler flags.\n",
      "2024-04-30 21:40:16.109789: W tensorflow/compiler/tf2tensorrt/utils/py_utils.cc:38] TF-TRT Warning: Could not find TensorRT\n"
     ]
    }
   ],
   "source": [
    "# importing libraries\n",
    "from keras.models import Sequential\n",
    "from keras.layers import LSTM\n",
    "from keras.layers import Dense\n",
    "from keras.layers import SimpleRNN\n",
    "from keras.layers import Dropout\n",
    "from keras.layers import GRU, Bidirectional\n",
    "from keras.optimizers import SGD\n",
    "from sklearn import metrics\n",
    "from sklearn.metrics import mean_squared_error"
   ]
  },
  {
   "cell_type": "code",
   "execution_count": 11,
   "id": "10500f13-df68-4df9-913a-632a984da0d6",
   "metadata": {},
   "outputs": [
    {
     "name": "stdout",
     "output_type": "stream",
     "text": [
      "Epoch 1/10\n"
     ]
    },
    {
     "name": "stderr",
     "output_type": "stream",
     "text": [
      "/home/nicolas/.local/lib/python3.12/site-packages/keras/src/layers/rnn/rnn.py:204: UserWarning: Do not pass an `input_shape`/`input_dim` argument to a layer. When using Sequential models, prefer using an `Input(shape)` object as the first layer in the model instead.\n",
      "  super().__init__(**kwargs)\n"
     ]
    },
    {
     "name": "stdout",
     "output_type": "stream",
     "text": [
      "\u001b[1m7284/7284\u001b[0m \u001b[32m━━━━━━━━━━━━━━━━━━━━\u001b[0m\u001b[37m\u001b[0m \u001b[1m93s\u001b[0m 13ms/step - accuracy: 7.5424e-06 - loss: 5.6158e-04\n",
      "Epoch 2/10\n",
      "\u001b[1m7284/7284\u001b[0m \u001b[32m━━━━━━━━━━━━━━━━━━━━\u001b[0m\u001b[37m\u001b[0m \u001b[1m95s\u001b[0m 13ms/step - accuracy: 2.3107e-06 - loss: 1.3096e-05\n",
      "Epoch 3/10\n",
      "\u001b[1m7284/7284\u001b[0m \u001b[32m━━━━━━━━━━━━━━━━━━━━\u001b[0m\u001b[37m\u001b[0m \u001b[1m93s\u001b[0m 13ms/step - accuracy: 4.5317e-06 - loss: 7.7598e-06\n",
      "Epoch 4/10\n",
      "\u001b[1m7284/7284\u001b[0m \u001b[32m━━━━━━━━━━━━━━━━━━━━\u001b[0m\u001b[37m\u001b[0m \u001b[1m92s\u001b[0m 13ms/step - accuracy: 3.3655e-07 - loss: 6.6586e-06\n",
      "Epoch 5/10\n",
      "\u001b[1m7284/7284\u001b[0m \u001b[32m━━━━━━━━━━━━━━━━━━━━\u001b[0m\u001b[37m\u001b[0m \u001b[1m92s\u001b[0m 13ms/step - accuracy: 1.1408e-05 - loss: 6.2542e-06\n",
      "Epoch 6/10\n",
      "\u001b[1m7284/7284\u001b[0m \u001b[32m━━━━━━━━━━━━━━━━━━━━\u001b[0m\u001b[37m\u001b[0m \u001b[1m94s\u001b[0m 13ms/step - accuracy: 6.7222e-06 - loss: 5.8970e-06\n",
      "Epoch 7/10\n",
      "\u001b[1m7284/7284\u001b[0m \u001b[32m━━━━━━━━━━━━━━━━━━━━\u001b[0m\u001b[37m\u001b[0m \u001b[1m96s\u001b[0m 13ms/step - accuracy: 7.9614e-06 - loss: 5.8685e-06\n",
      "Epoch 8/10\n",
      "\u001b[1m7284/7284\u001b[0m \u001b[32m━━━━━━━━━━━━━━━━━━━━\u001b[0m\u001b[37m\u001b[0m \u001b[1m97s\u001b[0m 13ms/step - accuracy: 1.5688e-05 - loss: 5.6132e-06\n",
      "Epoch 9/10\n",
      "\u001b[1m7284/7284\u001b[0m \u001b[32m━━━━━━━━━━━━━━━━━━━━\u001b[0m\u001b[37m\u001b[0m \u001b[1m99s\u001b[0m 14ms/step - accuracy: 1.3293e-05 - loss: 5.2580e-06\n",
      "Epoch 10/10\n",
      "\u001b[1m7284/7284\u001b[0m \u001b[32m━━━━━━━━━━━━━━━━━━━━\u001b[0m\u001b[37m\u001b[0m \u001b[1m96s\u001b[0m 13ms/step - accuracy: 5.1115e-06 - loss: 5.3205e-06\n"
     ]
    },
    {
     "data": {
      "text/html": [
       "<pre style=\"white-space:pre;overflow-x:auto;line-height:normal;font-family:Menlo,'DejaVu Sans Mono',consolas,'Courier New',monospace\"><span style=\"font-weight: bold\">Model: \"sequential\"</span>\n",
       "</pre>\n"
      ],
      "text/plain": [
       "\u001b[1mModel: \"sequential\"\u001b[0m\n"
      ]
     },
     "metadata": {},
     "output_type": "display_data"
    },
    {
     "data": {
      "text/html": [
       "<pre style=\"white-space:pre;overflow-x:auto;line-height:normal;font-family:Menlo,'DejaVu Sans Mono',consolas,'Courier New',monospace\">┏━━━━━━━━━━━━━━━━━━━━━━━━━━━━━━━━━┳━━━━━━━━━━━━━━━━━━━━━━━━┳━━━━━━━━━━━━━━━┓\n",
       "┃<span style=\"font-weight: bold\"> Layer (type)                    </span>┃<span style=\"font-weight: bold\"> Output Shape           </span>┃<span style=\"font-weight: bold\">       Param # </span>┃\n",
       "┡━━━━━━━━━━━━━━━━━━━━━━━━━━━━━━━━━╇━━━━━━━━━━━━━━━━━━━━━━━━╇━━━━━━━━━━━━━━━┩\n",
       "│ lstm (<span style=\"color: #0087ff; text-decoration-color: #0087ff\">LSTM</span>)                     │ (<span style=\"color: #00d7ff; text-decoration-color: #00d7ff\">None</span>, <span style=\"color: #00af00; text-decoration-color: #00af00\">50</span>, <span style=\"color: #00af00; text-decoration-color: #00af00\">50</span>)         │        <span style=\"color: #00af00; text-decoration-color: #00af00\">10,400</span> │\n",
       "├─────────────────────────────────┼────────────────────────┼───────────────┤\n",
       "│ lstm_1 (<span style=\"color: #0087ff; text-decoration-color: #0087ff\">LSTM</span>)                   │ (<span style=\"color: #00d7ff; text-decoration-color: #00d7ff\">None</span>, <span style=\"color: #00af00; text-decoration-color: #00af00\">50</span>)             │        <span style=\"color: #00af00; text-decoration-color: #00af00\">20,200</span> │\n",
       "├─────────────────────────────────┼────────────────────────┼───────────────┤\n",
       "│ dense (<span style=\"color: #0087ff; text-decoration-color: #0087ff\">Dense</span>)                   │ (<span style=\"color: #00d7ff; text-decoration-color: #00d7ff\">None</span>, <span style=\"color: #00af00; text-decoration-color: #00af00\">25</span>)             │         <span style=\"color: #00af00; text-decoration-color: #00af00\">1,275</span> │\n",
       "├─────────────────────────────────┼────────────────────────┼───────────────┤\n",
       "│ dense_1 (<span style=\"color: #0087ff; text-decoration-color: #0087ff\">Dense</span>)                 │ (<span style=\"color: #00d7ff; text-decoration-color: #00d7ff\">None</span>, <span style=\"color: #00af00; text-decoration-color: #00af00\">1</span>)              │            <span style=\"color: #00af00; text-decoration-color: #00af00\">26</span> │\n",
       "└─────────────────────────────────┴────────────────────────┴───────────────┘\n",
       "</pre>\n"
      ],
      "text/plain": [
       "┏━━━━━━━━━━━━━━━━━━━━━━━━━━━━━━━━━┳━━━━━━━━━━━━━━━━━━━━━━━━┳━━━━━━━━━━━━━━━┓\n",
       "┃\u001b[1m \u001b[0m\u001b[1mLayer (type)                   \u001b[0m\u001b[1m \u001b[0m┃\u001b[1m \u001b[0m\u001b[1mOutput Shape          \u001b[0m\u001b[1m \u001b[0m┃\u001b[1m \u001b[0m\u001b[1m      Param #\u001b[0m\u001b[1m \u001b[0m┃\n",
       "┡━━━━━━━━━━━━━━━━━━━━━━━━━━━━━━━━━╇━━━━━━━━━━━━━━━━━━━━━━━━╇━━━━━━━━━━━━━━━┩\n",
       "│ lstm (\u001b[38;5;33mLSTM\u001b[0m)                     │ (\u001b[38;5;45mNone\u001b[0m, \u001b[38;5;34m50\u001b[0m, \u001b[38;5;34m50\u001b[0m)         │        \u001b[38;5;34m10,400\u001b[0m │\n",
       "├─────────────────────────────────┼────────────────────────┼───────────────┤\n",
       "│ lstm_1 (\u001b[38;5;33mLSTM\u001b[0m)                   │ (\u001b[38;5;45mNone\u001b[0m, \u001b[38;5;34m50\u001b[0m)             │        \u001b[38;5;34m20,200\u001b[0m │\n",
       "├─────────────────────────────────┼────────────────────────┼───────────────┤\n",
       "│ dense (\u001b[38;5;33mDense\u001b[0m)                   │ (\u001b[38;5;45mNone\u001b[0m, \u001b[38;5;34m25\u001b[0m)             │         \u001b[38;5;34m1,275\u001b[0m │\n",
       "├─────────────────────────────────┼────────────────────────┼───────────────┤\n",
       "│ dense_1 (\u001b[38;5;33mDense\u001b[0m)                 │ (\u001b[38;5;45mNone\u001b[0m, \u001b[38;5;34m1\u001b[0m)              │            \u001b[38;5;34m26\u001b[0m │\n",
       "└─────────────────────────────────┴────────────────────────┴───────────────┘\n"
      ]
     },
     "metadata": {},
     "output_type": "display_data"
    },
    {
     "data": {
      "text/html": [
       "<pre style=\"white-space:pre;overflow-x:auto;line-height:normal;font-family:Menlo,'DejaVu Sans Mono',consolas,'Courier New',monospace\"><span style=\"font-weight: bold\"> Total params: </span><span style=\"color: #00af00; text-decoration-color: #00af00\">95,705</span> (373.85 KB)\n",
       "</pre>\n"
      ],
      "text/plain": [
       "\u001b[1m Total params: \u001b[0m\u001b[38;5;34m95,705\u001b[0m (373.85 KB)\n"
      ]
     },
     "metadata": {},
     "output_type": "display_data"
    },
    {
     "data": {
      "text/html": [
       "<pre style=\"white-space:pre;overflow-x:auto;line-height:normal;font-family:Menlo,'DejaVu Sans Mono',consolas,'Courier New',monospace\"><span style=\"font-weight: bold\"> Trainable params: </span><span style=\"color: #00af00; text-decoration-color: #00af00\">31,901</span> (124.61 KB)\n",
       "</pre>\n"
      ],
      "text/plain": [
       "\u001b[1m Trainable params: \u001b[0m\u001b[38;5;34m31,901\u001b[0m (124.61 KB)\n"
      ]
     },
     "metadata": {},
     "output_type": "display_data"
    },
    {
     "data": {
      "text/html": [
       "<pre style=\"white-space:pre;overflow-x:auto;line-height:normal;font-family:Menlo,'DejaVu Sans Mono',consolas,'Courier New',monospace\"><span style=\"font-weight: bold\"> Non-trainable params: </span><span style=\"color: #00af00; text-decoration-color: #00af00\">0</span> (0.00 B)\n",
       "</pre>\n"
      ],
      "text/plain": [
       "\u001b[1m Non-trainable params: \u001b[0m\u001b[38;5;34m0\u001b[0m (0.00 B)\n"
      ]
     },
     "metadata": {},
     "output_type": "display_data"
    },
    {
     "data": {
      "text/html": [
       "<pre style=\"white-space:pre;overflow-x:auto;line-height:normal;font-family:Menlo,'DejaVu Sans Mono',consolas,'Courier New',monospace\"><span style=\"font-weight: bold\"> Optimizer params: </span><span style=\"color: #00af00; text-decoration-color: #00af00\">63,804</span> (249.24 KB)\n",
       "</pre>\n"
      ],
      "text/plain": [
       "\u001b[1m Optimizer params: \u001b[0m\u001b[38;5;34m63,804\u001b[0m (249.24 KB)\n"
      ]
     },
     "metadata": {},
     "output_type": "display_data"
    }
   ],
   "source": [
    "#Initialising the model\n",
    "regressorLSTM = Sequential()\n",
    " \n",
    "#Adding LSTM layers\n",
    "regressorLSTM.add(LSTM(50, \n",
    "                       return_sequences = True, \n",
    "                       input_shape = (X_train.shape[1],1)))\n",
    "regressorLSTM.add(LSTM(50, \n",
    "                       return_sequences = False))\n",
    "regressorLSTM.add(Dense(25))\n",
    " \n",
    "#Adding the output layer\n",
    "regressorLSTM.add(Dense(1))\n",
    " \n",
    "#Compiling the model\n",
    "regressorLSTM.compile(optimizer = 'adam',\n",
    "                      loss = 'mean_squared_error',\n",
    "                      metrics = [\"accuracy\"])\n",
    " \n",
    "#Fitting the model\n",
    "regressorLSTM.fit(X_train, \n",
    "                  y_train, \n",
    "                  batch_size = 32, \n",
    "                  epochs = 10)\n",
    "regressorLSTM.summary()"
   ]
  },
  {
   "cell_type": "markdown",
   "id": "2800bec7-667b-4c1c-a7d7-e0ee60fec557",
   "metadata": {},
   "source": [
    "#### Testing the LSTM model"
   ]
  },
  {
   "cell_type": "code",
   "execution_count": 12,
   "id": "b8b3af19-c0e6-41e5-8959-e485bbb4f379",
   "metadata": {},
   "outputs": [
    {
     "name": "stdout",
     "output_type": "stream",
     "text": [
      "\u001b[1m906/906\u001b[0m \u001b[32m━━━━━━━━━━━━━━━━━━━━\u001b[0m\u001b[37m\u001b[0m \u001b[1m4s\u001b[0m 4ms/step\n"
     ]
    }
   ],
   "source": [
    "y_LSTM = regressorLSTM.predict(X_test)\n",
    "y_LSTM_O = scaler.inverse_transform(y_LSTM)"
   ]
  },
  {
   "cell_type": "markdown",
   "id": "abc8daa0-001f-4a81-b524-760db9a16b08",
   "metadata": {},
   "source": [
    "#### Plotting model prediction"
   ]
  },
  {
   "cell_type": "code",
   "execution_count": null,
   "id": "89a65a4e-932e-438d-9a1b-da8d89c7589d",
   "metadata": {},
   "outputs": [],
   "source": [
    "plt.figure(figsize=(18, 8))\n",
    "plt.title(\"LSTM 30 minute candle prediction model\")\n",
    "# plt.plot(test, label = \"Real price\", color = \"blue\", lw=0.7)\n",
    "plt.plot(y_LSTM_O, label = \"LSTM Prediction\", color = \"orange\", lw=0.7)\n",
    "plt.legend()\n",
    "\n",
    "plt.xlabel(\"Time\")\n",
    "plt.ylabel(\"Close price\")\n",
    " \n",
    "plt.show()\n",
    "print(y_LSTM_O)\n",
    "print(\"\\n\")\n",
    "print(test)"
   ]
  }
 ],
 "metadata": {
  "accelerator": "GPU",
  "colab": {
   "gpuType": "T4",
   "provenance": []
  },
  "kernelspec": {
   "display_name": "Python 3 (ipykernel)",
   "language": "python",
   "name": "python3"
  },
  "language_info": {
   "codemirror_mode": {
    "name": "ipython",
    "version": 3
   },
   "file_extension": ".py",
   "mimetype": "text/x-python",
   "name": "python",
   "nbconvert_exporter": "python",
   "pygments_lexer": "ipython3",
   "version": "3.12.3"
  }
 },
 "nbformat": 4,
 "nbformat_minor": 5
}
